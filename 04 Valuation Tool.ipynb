{
 "cells": [
  {
   "cell_type": "code",
   "execution_count": 61,
   "id": "5a7ec34a",
   "metadata": {},
   "outputs": [],
   "source": [
    "from sklearn.datasets import load_boston\n",
    "from sklearn.linear_model import LinearRegression\n",
    "from sklearn.metrics import mean_squared_error\n",
    "\n",
    "import pandas as pd\n",
    "import numpy as np\n",
    "import boston_valuation as vals"
   ]
  },
  {
   "cell_type": "code",
   "execution_count": 4,
   "id": "23fe6275",
   "metadata": {},
   "outputs": [],
   "source": [
    "#Gather Data\n",
    "boston_dataset = load_boston()\n",
    "\n",
    "# Take the data and put it in a DataFrame:\n",
    "data = pd.DataFrame(data=boston_dataset.data, columns=boston_dataset.feature_names)\n",
    "\n",
    "#Remove the feautures that we have determined are not useful for the model.\n",
    "features = data.drop(['INDUS', 'AGE'], axis=1)\n",
    "\n",
    "#Change target to log_prices as we determined it improves the model.\n",
    "log_prices = np.log(boston_dataset.target)\n",
    "\n",
    "# Change target into a DataFrame so that it can be 2d as the rest of the data is.\n",
    "target = pd.DataFrame(log_prices, columns=['PRICE'])\n"
   ]
  },
  {
   "cell_type": "code",
   "execution_count": 5,
   "id": "a65562ea",
   "metadata": {},
   "outputs": [
    {
     "data": {
      "text/html": [
       "<div>\n",
       "<style scoped>\n",
       "    .dataframe tbody tr th:only-of-type {\n",
       "        vertical-align: middle;\n",
       "    }\n",
       "\n",
       "    .dataframe tbody tr th {\n",
       "        vertical-align: top;\n",
       "    }\n",
       "\n",
       "    .dataframe thead th {\n",
       "        text-align: right;\n",
       "    }\n",
       "</style>\n",
       "<table border=\"1\" class=\"dataframe\">\n",
       "  <thead>\n",
       "    <tr style=\"text-align: right;\">\n",
       "      <th></th>\n",
       "      <th>CRIM</th>\n",
       "      <th>ZN</th>\n",
       "      <th>CHAS</th>\n",
       "      <th>NOX</th>\n",
       "      <th>RM</th>\n",
       "      <th>DIS</th>\n",
       "      <th>RAD</th>\n",
       "      <th>TAX</th>\n",
       "      <th>PTRATIO</th>\n",
       "      <th>B</th>\n",
       "      <th>LSTAT</th>\n",
       "    </tr>\n",
       "  </thead>\n",
       "  <tbody>\n",
       "    <tr>\n",
       "      <th>0</th>\n",
       "      <td>0.00632</td>\n",
       "      <td>18.0</td>\n",
       "      <td>0.0</td>\n",
       "      <td>0.538</td>\n",
       "      <td>6.575</td>\n",
       "      <td>4.0900</td>\n",
       "      <td>1.0</td>\n",
       "      <td>296.0</td>\n",
       "      <td>15.3</td>\n",
       "      <td>396.90</td>\n",
       "      <td>4.98</td>\n",
       "    </tr>\n",
       "    <tr>\n",
       "      <th>1</th>\n",
       "      <td>0.02731</td>\n",
       "      <td>0.0</td>\n",
       "      <td>0.0</td>\n",
       "      <td>0.469</td>\n",
       "      <td>6.421</td>\n",
       "      <td>4.9671</td>\n",
       "      <td>2.0</td>\n",
       "      <td>242.0</td>\n",
       "      <td>17.8</td>\n",
       "      <td>396.90</td>\n",
       "      <td>9.14</td>\n",
       "    </tr>\n",
       "    <tr>\n",
       "      <th>2</th>\n",
       "      <td>0.02729</td>\n",
       "      <td>0.0</td>\n",
       "      <td>0.0</td>\n",
       "      <td>0.469</td>\n",
       "      <td>7.185</td>\n",
       "      <td>4.9671</td>\n",
       "      <td>2.0</td>\n",
       "      <td>242.0</td>\n",
       "      <td>17.8</td>\n",
       "      <td>392.83</td>\n",
       "      <td>4.03</td>\n",
       "    </tr>\n",
       "    <tr>\n",
       "      <th>3</th>\n",
       "      <td>0.03237</td>\n",
       "      <td>0.0</td>\n",
       "      <td>0.0</td>\n",
       "      <td>0.458</td>\n",
       "      <td>6.998</td>\n",
       "      <td>6.0622</td>\n",
       "      <td>3.0</td>\n",
       "      <td>222.0</td>\n",
       "      <td>18.7</td>\n",
       "      <td>394.63</td>\n",
       "      <td>2.94</td>\n",
       "    </tr>\n",
       "    <tr>\n",
       "      <th>4</th>\n",
       "      <td>0.06905</td>\n",
       "      <td>0.0</td>\n",
       "      <td>0.0</td>\n",
       "      <td>0.458</td>\n",
       "      <td>7.147</td>\n",
       "      <td>6.0622</td>\n",
       "      <td>3.0</td>\n",
       "      <td>222.0</td>\n",
       "      <td>18.7</td>\n",
       "      <td>396.90</td>\n",
       "      <td>5.33</td>\n",
       "    </tr>\n",
       "  </tbody>\n",
       "</table>\n",
       "</div>"
      ],
      "text/plain": [
       "      CRIM    ZN  CHAS    NOX     RM     DIS  RAD    TAX  PTRATIO       B  \\\n",
       "0  0.00632  18.0   0.0  0.538  6.575  4.0900  1.0  296.0     15.3  396.90   \n",
       "1  0.02731   0.0   0.0  0.469  6.421  4.9671  2.0  242.0     17.8  396.90   \n",
       "2  0.02729   0.0   0.0  0.469  7.185  4.9671  2.0  242.0     17.8  392.83   \n",
       "3  0.03237   0.0   0.0  0.458  6.998  6.0622  3.0  222.0     18.7  394.63   \n",
       "4  0.06905   0.0   0.0  0.458  7.147  6.0622  3.0  222.0     18.7  396.90   \n",
       "\n",
       "   LSTAT  \n",
       "0   4.98  \n",
       "1   9.14  \n",
       "2   4.03  \n",
       "3   2.94  \n",
       "4   5.33  "
      ]
     },
     "execution_count": 5,
     "metadata": {},
     "output_type": "execute_result"
    }
   ],
   "source": [
    "features.head()"
   ]
  },
  {
   "cell_type": "code",
   "execution_count": 6,
   "id": "bfcd6630",
   "metadata": {},
   "outputs": [
    {
     "data": {
      "text/plain": [
       "array([[3.61352356e+00, 1.13636364e+01, 6.91699605e-02, 5.54695059e-01,\n",
       "        6.28463439e+00, 3.79504269e+00, 9.54940711e+00, 4.08237154e+02,\n",
       "        1.84555336e+01, 3.56674032e+02, 1.26530632e+01]])"
      ]
     },
     "execution_count": 6,
     "metadata": {},
     "output_type": "execute_result"
    }
   ],
   "source": [
    "# Create an object that will hold values we need for making estimates. \n",
    "# The opject must be the same shape as the features.\n",
    "# Some will be made default values so we have to populate it with mean values of the original features value.\n",
    "\n",
    "CRIME_IDX = 0\n",
    "ZN_IDX = 1\n",
    "CHAS_IDX = 2\n",
    "RM_IDX = 4\n",
    "PTRATIO_IDX = 8\n",
    "\n",
    "property_stats = features.mean().values.reshape(1, 11)\n",
    "\n",
    "property_stats"
   ]
  },
  {
   "cell_type": "code",
   "execution_count": 7,
   "id": "3f50fa96",
   "metadata": {},
   "outputs": [],
   "source": [
    "#Calculate the estimated theta values using the regression model from sklearn.\n",
    "regr = LinearRegression().fit(features, target) #Our theta values will be claculated here.\n",
    "fitted_vals = regr.predict(features) # Calculating all the predicted values using thetas calculated on the fit module above.\n",
    "\n",
    "# Calculate MSE using sklearn\n",
    "MSE = mean_squared_error(target, fitted_vals)\n",
    "\n",
    "# calculate RMSE using sklean\n",
    "RMSE = mean_squared_error(target, fitted_vals, squared=False) # Alternative RMSE = np.sqrt(MSE)"
   ]
  },
  {
   "cell_type": "code",
   "execution_count": 28,
   "id": "8fb789c7",
   "metadata": {},
   "outputs": [],
   "source": [
    "def get_log_estimates(nr_rooms, \n",
    "                      student_per_class, \n",
    "                      next_to_river=False, \n",
    "                      high_confidence=True):\n",
    "    # We will be using our property stats object we created ealier to configer it before it predicts.\n",
    "    property_stats[0][RM_IDX]=nr_rooms\n",
    "    property_stats[0][PTRATIO_IDX]=student_per_class\n",
    "    \n",
    "    if next_to_river:\n",
    "        property_stats[0][CHAS_IDX]=1\n",
    "    else:\n",
    "        property_stats[0][CHAS_IDX]=0\n",
    "        \n",
    "    # We will now run the prediction.\n",
    "    log_estimates = regr.predict(property_stats)[0][0]\n",
    "    \n",
    "    # Calculating Range\n",
    "    if high_confidence:\n",
    "        upper_bound = log_estimates + 2*RMSE\n",
    "        lower_bound = log_estimates - 2*RMSE\n",
    "        interval = 95\n",
    "    else:\n",
    "        upper_bound = log_estimates + RMSE\n",
    "        lower_bound = log_estimates - RMSE\n",
    "        interval = 68\n",
    "    \n",
    "    return log_estimates, upper_bound, lower_bound, interval"
   ]
  },
  {
   "cell_type": "code",
   "execution_count": 29,
   "id": "9382f332",
   "metadata": {},
   "outputs": [
    {
     "data": {
      "text/plain": [
       "(2.7767581914803987, 3.1517824618746593, 2.401733921086138, 95)"
      ]
     },
     "execution_count": 29,
     "metadata": {},
     "output_type": "execute_result"
    }
   ],
   "source": [
    "get_log_estimates(3, 20, next_to_river=True, high_confidence=True)"
   ]
  },
  {
   "cell_type": "code",
   "execution_count": 30,
   "id": "c8a9b613",
   "metadata": {},
   "outputs": [
    {
     "data": {
      "text/plain": [
       "21.2"
      ]
     },
     "execution_count": 30,
     "metadata": {},
     "output_type": "execute_result"
    }
   ],
   "source": [
    "np.median(boston_dataset.target)"
   ]
  },
  {
   "cell_type": "code",
   "execution_count": 35,
   "id": "267d6d0c",
   "metadata": {},
   "outputs": [
    {
     "name": "stdout",
     "output_type": "stream",
     "text": [
      "The esimate at the 68% prediction interval.\n",
      "The estimate price is $827000.0.\n",
      "The lower range is $686000.0 and the upper range is $998000.0\n"
     ]
    }
   ],
   "source": [
    "ZILLOW_MEDIAN_PRICE = 583.8\n",
    "\n",
    "SCALE_FACTOR = ZILLOW_MEDIAN_PRICE/np.median(boston_dataset.target)\n",
    "\n",
    "log_est, upper, lower, conf = get_log_estimates(9, student_per_class=15, next_to_river=False, high_confidence=False)\n",
    "\n",
    "# Converting values to current dollar prices\n",
    "dollar_est = np.e**log_est * 1000 *SCALE_FACTOR\n",
    "dollar_hi = np.e**upper*1000*SCALE_FACTOR\n",
    "dollar_low = np.e**lower*1000*SCALE_FACTOR\n",
    "\n",
    "#Rounding the prices\n",
    "\n",
    "rounded_est = np.around(dollar_est, -3)\n",
    "rounded_hi = np.around(dollar_hi, -3)\n",
    "rounded_low = np.around(dollar_low, -3)\n",
    "\n",
    "print(f'The esimate at the {conf}% prediction interval.')\n",
    "print(f'The estimate price is ${rounded_est}.')\n",
    "print(f'The lower range is ${rounded_low} and the upper range is ${rounded_hi}')\n"
   ]
  },
  {
   "cell_type": "code",
   "execution_count": 59,
   "id": "45622e75",
   "metadata": {},
   "outputs": [],
   "source": [
    "def get_estimate(rm, ptratio, chas=False, pred_inter=True):\n",
    "    \"\"\"\n",
    "    Estimates the price for a Boston real estate property.\n",
    "    \n",
    "    rm-- number of rooms in the property\n",
    "    ptratio-- the number of children per teacher in the classroom\n",
    "    chas-- True if next to the river and False otherwise.\n",
    "    pred_inter-- True for 95% prediction interval and False for 68% prediction interval\n",
    "    \n",
    "    \"\"\"\n",
    "    \n",
    "    if rm < 1 or ptratio < 1:\n",
    "        print('This is unrealistic, Try again')\n",
    "        return\n",
    "    \n",
    "    log_est, upper, lower, conf = get_log_estimates(rm, \n",
    "                                                    student_per_class=ptratio, \n",
    "                                                    next_to_river=chas, \n",
    "                                                    high_confidence=pred_inter)\n",
    "\n",
    "    # Converting values to current dollar prices\n",
    "    dollar_est = np.e**log_est * 1000 *SCALE_FACTOR\n",
    "    dollar_hi = np.e**upper*1000*SCALE_FACTOR\n",
    "    dollar_low = np.e**lower*1000*SCALE_FACTOR\n",
    "\n",
    "    #Rounding the prices\n",
    "\n",
    "    rounded_est = np.around(dollar_est, -3)\n",
    "    rounded_hi = np.around(dollar_hi, -3)\n",
    "    rounded_low = np.around(dollar_low, -3)\n",
    "\n",
    "    print(f'The esimate at the {conf}% prediction interval.')\n",
    "    print(f'The estimate price is ${rounded_est}.')\n",
    "    print(f'The lower range is ${rounded_low} and the upper range is ${rounded_hi}')"
   ]
  },
  {
   "cell_type": "code",
   "execution_count": 60,
   "id": "93520630",
   "metadata": {},
   "outputs": [
    {
     "name": "stdout",
     "output_type": "stream",
     "text": [
      "The esimate at the 95% prediction interval.\n",
      "The estimate price is $533000.0.\n",
      "The lower range is $367000.0 and the upper range is $776000.0\n"
     ]
    }
   ],
   "source": [
    "get_estimate(rm=3, ptratio=15, chas=True)"
   ]
  },
  {
   "cell_type": "code",
   "execution_count": 62,
   "id": "df632396",
   "metadata": {},
   "outputs": [
    {
     "name": "stdout",
     "output_type": "stream",
     "text": [
      "The esimate at the 95% prediction interval.\n",
      "The estimate price is $533000.0.\n",
      "The lower range is $367000.0 and the upper range is $776000.0\n"
     ]
    }
   ],
   "source": [
    "vals.get_estimate(rm=3, ptratio=15, chas=True)"
   ]
  },
  {
   "cell_type": "code",
   "execution_count": 2,
   "id": "152c6a21",
   "metadata": {},
   "outputs": [
    {
     "name": "stdout",
     "output_type": "stream",
     "text": [
      "   December 2021\n",
      "Fr Sa Su Mo Tu We Th\n",
      "                1  2\n",
      " 3  4  5  6  7  8  9\n",
      "10 11 12 13 14 15 16\n",
      "17 18 19 20 21 22 23\n",
      "24 25 26 27 28 29 30\n",
      "31\n"
     ]
    }
   ],
   "source": [
    "import calendar\n",
    "c=calendar.TextCalendar(calendar.FRIDAY)\n",
    "c.prmonth(2021, 12)"
   ]
  },
  {
   "cell_type": "code",
   "execution_count": null,
   "id": "161f4261",
   "metadata": {},
   "outputs": [],
   "source": []
  }
 ],
 "metadata": {
  "kernelspec": {
   "display_name": "Python 3",
   "language": "python",
   "name": "python3"
  },
  "language_info": {
   "codemirror_mode": {
    "name": "ipython",
    "version": 3
   },
   "file_extension": ".py",
   "mimetype": "text/x-python",
   "name": "python",
   "nbconvert_exporter": "python",
   "pygments_lexer": "ipython3",
   "version": "3.8.8"
  }
 },
 "nbformat": 4,
 "nbformat_minor": 5
}
